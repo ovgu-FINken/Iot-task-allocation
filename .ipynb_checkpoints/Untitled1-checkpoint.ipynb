{
 "cells": [
  {
   "cell_type": "code",
   "execution_count": 9,
   "metadata": {},
   "outputs": [
    {
     "name": "stdout",
     "output_type": "stream",
     "text": [
      "   index   lifetime      latency  \\\n",
      "0      0 -22.800772  9005.143951   \n",
      "1      1 -20.792471  9104.980562   \n",
      "2      2 -21.948508  9057.672342   \n",
      "3      3 -21.387984  9263.540796   \n",
      "4      4 -21.576905  9590.666549   \n",
      "5      5 -21.451935  9288.335605   \n",
      "6      6 -21.879070  9006.159975   \n",
      "7      7 -21.088589  9027.215311   \n",
      "8      8 -22.213218  8903.644536   \n",
      "\n",
      "                                            settings  \\\n",
      "0  {\"nNodes\": 49, \"network_creator\": \"Grid\", \"dim...   \n",
      "1  {\"nNodes\": 49, \"network_creator\": \"Grid\", \"dim...   \n",
      "2  {\"nNodes\": 49, \"network_creator\": \"Grid\", \"dim...   \n",
      "3  {\"nNodes\": 49, \"network_creator\": \"Grid\", \"dim...   \n",
      "4  {\"nNodes\": 49, \"network_creator\": \"Grid\", \"dim...   \n",
      "5  {\"nNodes\": 49, \"network_creator\": \"Grid\", \"dim...   \n",
      "6  {\"nNodes\": 49, \"network_creator\": \"Grid\", \"dim...   \n",
      "7  {\"nNodes\": 49, \"network_creator\": \"Grid\", \"dim...   \n",
      "8  {\"nNodes\": 49, \"network_creator\": \"Grid\", \"dim...   \n",
      "\n",
      "                                               front  \n",
      "0  b'\\x80\\x04\\x951\\x0e\\x00\\x00\\x00\\x00\\x00\\x00]\\x...  \n",
      "1  b'\\x80\\x04\\x95\\xbb\\x12\\x00\\x00\\x00\\x00\\x00\\x00...  \n",
      "2  b'\\x80\\x04\\x95\\xb0\\t\\x00\\x00\\x00\\x00\\x00\\x00]\\...  \n",
      "3  b'\\x80\\x04\\x95v\\x10\\x00\\x00\\x00\\x00\\x00\\x00]\\x...  \n",
      "4  b'\\x80\\x04\\x95v\\x10\\x00\\x00\\x00\\x00\\x00\\x00]\\x...  \n",
      "5  b'\\x80\\x04\\x95\\x00\\x15\\x00\\x00\\x00\\x00\\x00\\x00...  \n",
      "6  b'\\x80\\x04\\x95v\\x10\\x00\\x00\\x00\\x00\\x00\\x00]\\x...  \n",
      "7  b'\\x80\\x04\\x951\\x0e\\x00\\x00\\x00\\x00\\x00\\x00]\\x...  \n",
      "8  b'\\x80\\x04\\x95/\\x05\\x00\\x00\\x00\\x00\\x00\\x00]\\x...  \n"
     ]
    }
   ],
   "source": [
    "import pandas as pd\n",
    "import sqlalchemy as sql\n",
    "\n",
    "db = sql.create_engine(\"postgresql:///dweikert\")\n",
    "resdf = pd.read_sql('results',db)\n",
    "\n",
    "print(resdf)"
   ]
  },
  {
   "cell_type": "code",
   "execution_count": null,
   "metadata": {},
   "outputs": [],
   "source": []
  }
 ],
 "metadata": {
  "kernelspec": {
   "display_name": "venv",
   "language": "python",
   "name": "venv"
  },
  "language_info": {
   "codemirror_mode": {
    "name": "ipython",
    "version": 3
   },
   "file_extension": ".py",
   "mimetype": "text/x-python",
   "name": "python",
   "nbconvert_exporter": "python",
   "pygments_lexer": "ipython3",
   "version": "3.8.5"
  }
 },
 "nbformat": 4,
 "nbformat_minor": 4
}
